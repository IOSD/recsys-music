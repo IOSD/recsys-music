{
 "cells": [
  {
   "cell_type": "code",
   "execution_count": 1,
   "metadata": {
    "_cell_guid": "b1076dfc-b9ad-4769-8c92-a6c4dae69d19",
    "_uuid": "8f2839f25d086af736a60e9eeb907d3b93b6e0e5"
   },
   "outputs": [
    {
     "name": "stdout",
     "output_type": "stream",
     "text": [
      "['ratings.csv', 'links.csv', 'tags.csv', 'README.txt', 'movies.csv']\n"
     ]
    }
   ],
   "source": [
    "import numpy as np # linear algebra\n",
    "import pandas as pd # data processing, CSV file I/O (e.g. pd.read_csv)\n",
    "import os\n",
    "print(os.listdir(\"../input\"))"
   ]
  },
  {
   "cell_type": "code",
   "execution_count": 2,
   "metadata": {
    "_cell_guid": "79c7e3d0-c299-4dcb-8224-4455121ee9b0",
    "_uuid": "d629ff2d2480ee46fbb7e2d37f6b5fab8052498a"
   },
   "outputs": [
    {
     "data": {
      "text/html": [
       "<div>\n",
       "<style scoped>\n",
       "    .dataframe tbody tr th:only-of-type {\n",
       "        vertical-align: middle;\n",
       "    }\n",
       "\n",
       "    .dataframe tbody tr th {\n",
       "        vertical-align: top;\n",
       "    }\n",
       "\n",
       "    .dataframe thead th {\n",
       "        text-align: right;\n",
       "    }\n",
       "</style>\n",
       "<table border=\"1\" class=\"dataframe\">\n",
       "  <thead>\n",
       "    <tr style=\"text-align: right;\">\n",
       "      <th></th>\n",
       "      <th>userId</th>\n",
       "      <th>movieId</th>\n",
       "      <th>rating</th>\n",
       "      <th>timestamp</th>\n",
       "    </tr>\n",
       "  </thead>\n",
       "  <tbody>\n",
       "    <tr>\n",
       "      <th>0</th>\n",
       "      <td>1</td>\n",
       "      <td>31</td>\n",
       "      <td>2.5</td>\n",
       "      <td>1260759144</td>\n",
       "    </tr>\n",
       "    <tr>\n",
       "      <th>1</th>\n",
       "      <td>1</td>\n",
       "      <td>1029</td>\n",
       "      <td>3.0</td>\n",
       "      <td>1260759179</td>\n",
       "    </tr>\n",
       "    <tr>\n",
       "      <th>2</th>\n",
       "      <td>1</td>\n",
       "      <td>1061</td>\n",
       "      <td>3.0</td>\n",
       "      <td>1260759182</td>\n",
       "    </tr>\n",
       "    <tr>\n",
       "      <th>3</th>\n",
       "      <td>1</td>\n",
       "      <td>1129</td>\n",
       "      <td>2.0</td>\n",
       "      <td>1260759185</td>\n",
       "    </tr>\n",
       "    <tr>\n",
       "      <th>4</th>\n",
       "      <td>1</td>\n",
       "      <td>1172</td>\n",
       "      <td>4.0</td>\n",
       "      <td>1260759205</td>\n",
       "    </tr>\n",
       "    <tr>\n",
       "      <th>5</th>\n",
       "      <td>1</td>\n",
       "      <td>1263</td>\n",
       "      <td>2.0</td>\n",
       "      <td>1260759151</td>\n",
       "    </tr>\n",
       "    <tr>\n",
       "      <th>6</th>\n",
       "      <td>1</td>\n",
       "      <td>1287</td>\n",
       "      <td>2.0</td>\n",
       "      <td>1260759187</td>\n",
       "    </tr>\n",
       "    <tr>\n",
       "      <th>7</th>\n",
       "      <td>1</td>\n",
       "      <td>1293</td>\n",
       "      <td>2.0</td>\n",
       "      <td>1260759148</td>\n",
       "    </tr>\n",
       "    <tr>\n",
       "      <th>8</th>\n",
       "      <td>1</td>\n",
       "      <td>1339</td>\n",
       "      <td>3.5</td>\n",
       "      <td>1260759125</td>\n",
       "    </tr>\n",
       "    <tr>\n",
       "      <th>9</th>\n",
       "      <td>1</td>\n",
       "      <td>1343</td>\n",
       "      <td>2.0</td>\n",
       "      <td>1260759131</td>\n",
       "    </tr>\n",
       "  </tbody>\n",
       "</table>\n",
       "</div>"
      ],
      "text/plain": [
       "   userId  movieId  rating   timestamp\n",
       "0       1       31     2.5  1260759144\n",
       "1       1     1029     3.0  1260759179\n",
       "2       1     1061     3.0  1260759182\n",
       "3       1     1129     2.0  1260759185\n",
       "4       1     1172     4.0  1260759205\n",
       "5       1     1263     2.0  1260759151\n",
       "6       1     1287     2.0  1260759187\n",
       "7       1     1293     2.0  1260759148\n",
       "8       1     1339     3.5  1260759125\n",
       "9       1     1343     2.0  1260759131"
      ]
     },
     "execution_count": 2,
     "metadata": {},
     "output_type": "execute_result"
    }
   ],
   "source": [
    "ratings = pd.read_csv('../input/ratings.csv')\n",
    "ratings.head(10)"
   ]
  },
  {
   "cell_type": "code",
   "execution_count": 3,
   "metadata": {
    "_uuid": "846aced04b2bbe6b0d0915451c94ddf48f7504a5"
   },
   "outputs": [
    {
     "data": {
      "text/plain": [
       "(100004, 4)"
      ]
     },
     "execution_count": 3,
     "metadata": {},
     "output_type": "execute_result"
    }
   ],
   "source": [
    "ratings.shape"
   ]
  },
  {
   "cell_type": "code",
   "execution_count": 4,
   "metadata": {
    "_uuid": "17e6987d19a0577c0542d27f51575bbd58a64ec3"
   },
   "outputs": [
    {
     "name": "stdout",
     "output_type": "stream",
     "text": [
      "671 9066\n"
     ]
    }
   ],
   "source": [
    "users = ratings.userId.unique()\n",
    "movies = ratings.movieId.unique()\n",
    "n_user = len(users)\n",
    "n_movie =  len(movies)\n",
    "print(n_user , n_movie)"
   ]
  },
  {
   "cell_type": "code",
   "execution_count": 5,
   "metadata": {
    "_uuid": "97af87c785699ae741a4a2b8487a8f298ac52d93"
   },
   "outputs": [
    {
     "data": {
      "text/plain": [
       "547    2391\n",
       "564    1868\n",
       "624    1735\n",
       "15     1700\n",
       "73     1610\n",
       "452    1340\n",
       "468    1291\n",
       "380    1063\n",
       "311    1019\n",
       "30     1011\n",
       "294     947\n",
       "509     923\n",
       "580     922\n",
       "213     910\n",
       "212     876\n",
       "Name: userId, dtype: int64"
      ]
     },
     "execution_count": 5,
     "metadata": {},
     "output_type": "execute_result"
    }
   ],
   "source": [
    "ratings[\"userId\"].value_counts().sort_values(ascending=False)[0:15]"
   ]
  },
  {
   "cell_type": "code",
   "execution_count": 6,
   "metadata": {
    "_uuid": "633e576d4139b235a1bc5acf892faf63cc1ae8ee"
   },
   "outputs": [
    {
     "data": {
      "text/plain": [
       "356     341\n",
       "296     324\n",
       "318     311\n",
       "593     304\n",
       "260     291\n",
       "480     274\n",
       "2571    259\n",
       "1       247\n",
       "527     244\n",
       "589     237\n",
       "1196    234\n",
       "110     228\n",
       "1270    226\n",
       "608     224\n",
       "2858    220\n",
       "Name: movieId, dtype: int64"
      ]
     },
     "execution_count": 6,
     "metadata": {},
     "output_type": "execute_result"
    }
   ],
   "source": [
    "ratings[\"movieId\"].value_counts().sort_values(ascending=False)[0:15]"
   ]
  },
  {
   "cell_type": "code",
   "execution_count": 7,
   "metadata": {
    "_uuid": "044c103c4c922ad8c4ecb2cd90a0e9738a56e9be"
   },
   "outputs": [
    {
     "name": "stdout",
     "output_type": "stream",
     "text": [
      "(79868, 4) (20136, 4)\n"
     ]
    }
   ],
   "source": [
    "userid2idx = {o:i for i,o in enumerate(users)}\n",
    "movieid2idx = {o:i for i,o in enumerate(movies)}\n",
    "ratings['userId'] = ratings['userId'].apply(lambda x: userid2idx[x])\n",
    "ratings['movieId'] = ratings['movieId'].apply(lambda x: movieid2idx[x])\n",
    "split = np.random.rand(len(ratings)) < 0.8\n",
    "train = ratings[split]\n",
    "valid = ratings[~split]\n",
    "print(train.shape , valid.shape)"
   ]
  },
  {
   "cell_type": "code",
   "execution_count": 8,
   "metadata": {
    "_uuid": "20bc478c50c5a8dcffecb5f2cdba546b109b69d3"
   },
   "outputs": [
    {
     "name": "stderr",
     "output_type": "stream",
     "text": [
      "/opt/conda/lib/python3.6/site-packages/h5py/__init__.py:36: FutureWarning: Conversion of the second argument of issubdtype from `float` to `np.floating` is deprecated. In future, it will be treated as `np.float64 == np.dtype(float).type`.\n",
      "  from ._conv import register_converters as _register_converters\n",
      "Using TensorFlow backend.\n"
     ]
    }
   ],
   "source": [
    "import keras\n",
    "from keras import backend as K\n",
    "from keras.utils.data_utils import get_file\n",
    "from keras.utils import np_utils\n",
    "from keras.utils.np_utils import to_categorical\n",
    "from keras.models import Sequential, Model\n",
    "from keras.layers import Input, Embedding, Reshape, merge, LSTM\n",
    "from keras.layers import TimeDistributed, Activation, SimpleRNN, GRU\n",
    "from keras.layers.core import Flatten, Dense, Dropout, Lambda\n",
    "from keras.regularizers import l2 , l1\n",
    "from keras.layers.normalization import BatchNormalization\n",
    "from keras.optimizers import SGD, RMSprop, Adam\n",
    "from keras.metrics import categorical_crossentropy"
   ]
  },
  {
   "cell_type": "code",
   "execution_count": 9,
   "metadata": {
    "_uuid": "72714c2c09639510d4ed6fab0359111ec31265e0",
    "collapsed": true
   },
   "outputs": [],
   "source": [
    "filepath=\"recommend_weights.hdf5\"\n",
    "from keras.callbacks import ModelCheckpoint\n",
    "checkpoint = ModelCheckpoint(filepath, monitor='val_loss', verbose=1, save_best_only=True, mode='min')"
   ]
  },
  {
   "cell_type": "markdown",
   "metadata": {},
   "source": [
    "## The embedding layer size of 30 is tried and compared to that of 64. In the previous notebook I discussed about embedding layer of 50. This is another hyper parameter to deal with in collaborative filtering. "
   ]
  },
  {
   "cell_type": "code",
   "execution_count": 10,
   "metadata": {
    "_uuid": "87a2fef6b97c67a818cf555d88366128e37c39f1"
   },
   "outputs": [
    {
     "name": "stderr",
     "output_type": "stream",
     "text": [
      "/opt/conda/lib/python3.6/site-packages/ipykernel_launcher.py:3: UserWarning: Update your `Embedding` call to the Keras 2 API: `Embedding(671, 30, input_length=1, embeddings_regularizer=<keras.reg...)`\n",
      "  This is separate from the ipykernel package so we can avoid doing imports until\n"
     ]
    }
   ],
   "source": [
    "factor =30\n",
    "user_input = Input(shape=(1,), dtype='int64', name='user_input')\n",
    "user_emb = Embedding(n_user, factor, input_length=1, W_regularizer=l2(1e-4))(user_input)"
   ]
  },
  {
   "cell_type": "markdown",
   "metadata": {},
   "source": [
    "### Making the input layer and feeding the input to the embedding layer so as to turn the input vector to the dense latent vector and feature extraction process."
   ]
  },
  {
   "cell_type": "code",
   "execution_count": 11,
   "metadata": {
    "_uuid": "6cb826fddb608777e6089885482bce38b3dec50d"
   },
   "outputs": [
    {
     "name": "stderr",
     "output_type": "stream",
     "text": [
      "/opt/conda/lib/python3.6/site-packages/ipykernel_launcher.py:2: UserWarning: Update your `Embedding` call to the Keras 2 API: `Embedding(9066, 30, input_length=1, embeddings_regularizer=<keras.reg...)`\n",
      "  \n"
     ]
    }
   ],
   "source": [
    "movie_input = Input(shape=(1,), dtype='int64', name='movie_input')\n",
    "movie_emb = Embedding(n_movie, factor, input_length=1, W_regularizer=l2(1e-4))(movie_input)"
   ]
  },
  {
   "cell_type": "code",
   "execution_count": 12,
   "metadata": {
    "_uuid": "b5329aaf1874e4d63e39d6e3d708dd584c87044e",
    "collapsed": true
   },
   "outputs": [],
   "source": [
    "user_bias =  Embedding(n_user, 1, input_length = 1)(user_input)\n",
    "user_bias = Flatten()(user_bias)\n",
    "movie_bias = Embedding(n_movie, 1, input_length =1)(movie_input)\n",
    "movie_bias = Flatten()(movie_bias)"
   ]
  },
  {
   "cell_type": "markdown",
   "metadata": {},
   "source": [
    "### Adding the necessary biases and merging the 2 sources of inputs (movies embedding matrix and users embedding matrix). Finally completing the neural network ......"
   ]
  },
  {
   "cell_type": "code",
   "execution_count": 15,
   "metadata": {
    "_uuid": "c952fcc13b3c5276e609ea54e1bbc82f97023f37"
   },
   "outputs": [
    {
     "name": "stdout",
     "output_type": "stream",
     "text": [
      "__________________________________________________________________________________________________\n",
      "Layer (type)                    Output Shape         Param #     Connected to                     \n",
      "==================================================================================================\n",
      "user_input (InputLayer)         (None, 1)            0                                            \n",
      "__________________________________________________________________________________________________\n",
      "movie_input (InputLayer)        (None, 1)            0                                            \n",
      "__________________________________________________________________________________________________\n",
      "embedding_1 (Embedding)         (None, 1, 30)        20130       user_input[0][0]                 \n",
      "__________________________________________________________________________________________________\n",
      "embedding_2 (Embedding)         (None, 1, 30)        271980      movie_input[0][0]                \n",
      "__________________________________________________________________________________________________\n",
      "merge_2 (Merge)                 (None, 1, 1)         0           embedding_1[0][0]                \n",
      "                                                                 embedding_2[0][0]                \n",
      "__________________________________________________________________________________________________\n",
      "embedding_3 (Embedding)         (None, 1, 1)         671         user_input[0][0]                 \n",
      "__________________________________________________________________________________________________\n",
      "flatten_4 (Flatten)             (None, 1)            0           merge_2[0][0]                    \n",
      "__________________________________________________________________________________________________\n",
      "flatten_1 (Flatten)             (None, 1)            0           embedding_3[0][0]                \n",
      "__________________________________________________________________________________________________\n",
      "add_3 (Add)                     (None, 1)            0           flatten_4[0][0]                  \n",
      "                                                                 flatten_1[0][0]                  \n",
      "__________________________________________________________________________________________________\n",
      "dense_3 (Dense)                 (None, 16)           32          add_3[0][0]                      \n",
      "__________________________________________________________________________________________________\n",
      "dropout_2 (Dropout)             (None, 16)           0           dense_3[0][0]                    \n",
      "__________________________________________________________________________________________________\n",
      "embedding_4 (Embedding)         (None, 1, 1)         9066        movie_input[0][0]                \n",
      "__________________________________________________________________________________________________\n",
      "dense_4 (Dense)                 (None, 1)            17          dropout_2[0][0]                  \n",
      "__________________________________________________________________________________________________\n",
      "flatten_2 (Flatten)             (None, 1)            0           embedding_4[0][0]                \n",
      "__________________________________________________________________________________________________\n",
      "add_4 (Add)                     (None, 1)            0           dense_4[0][0]                    \n",
      "                                                                 flatten_2[0][0]                  \n",
      "==================================================================================================\n",
      "Total params: 301,896\n",
      "Trainable params: 301,896\n",
      "Non-trainable params: 0\n",
      "__________________________________________________________________________________________________\n"
     ]
    },
    {
     "name": "stderr",
     "output_type": "stream",
     "text": [
      "/opt/conda/lib/python3.6/site-packages/ipykernel_launcher.py:3: UserWarning: The `merge` function is deprecated and will be removed after 08/2017. Use instead layers from `keras.layers.merge`, e.g. `add`, `concatenate`, etc.\n",
      "  This is separate from the ipykernel package so we can avoid doing imports until\n",
      "/opt/conda/lib/python3.6/site-packages/Keras-2.1.5-py3.6.egg/keras/legacy/layers.py:465: UserWarning: The `Merge` layer is deprecated and will be removed after 08/2017. Use instead layers from `keras.layers.merge`, e.g. `add`, `concatenate`, etc.\n"
     ]
    }
   ],
   "source": [
    "lr =0.0001\n",
    "# Building a linear model\n",
    "inp = merge([user_emb, movie_emb], mode = 'dot')\n",
    "inp = Flatten()(inp)\n",
    "inp = keras.layers.add(([inp, user_bias]))\n",
    "inp = Dense(16 , activation = 'relu')(inp)\n",
    "inp = Dropout(0.4)(inp)\n",
    "inp = Dense(1)(inp)\n",
    "inp = keras.layers.add(([inp, movie_bias]))\n",
    "model = Model([user_input, movie_input], inp)\n",
    "model.compile(Adam(lr), loss = 'mse')\n",
    "model.summary()"
   ]
  },
  {
   "cell_type": "code",
   "execution_count": 16,
   "metadata": {
    "_uuid": "8b5fc477f99725c804cd3295ea125670d8613f5c"
   },
   "outputs": [
    {
     "name": "stdout",
     "output_type": "stream",
     "text": [
      "Train on 79868 samples, validate on 20136 samples\n",
      "Epoch 1/15\n",
      "79868/79868 [==============================] - 8s 105us/step - loss: 10.7473 - val_loss: 7.8937\n",
      "\n",
      "Epoch 00001: val_loss did not improve\n",
      "Epoch 2/15\n",
      "79868/79868 [==============================] - 8s 100us/step - loss: 5.2594 - val_loss: 2.8329\n",
      "\n",
      "Epoch 00002: val_loss did not improve\n",
      "Epoch 3/15\n",
      "79868/79868 [==============================] - 8s 100us/step - loss: 2.1936 - val_loss: 1.2171\n",
      "\n",
      "Epoch 00003: val_loss did not improve\n",
      "Epoch 4/15\n",
      "79868/79868 [==============================] - 8s 99us/step - loss: 1.7102 - val_loss: 1.0537\n",
      "\n",
      "Epoch 00004: val_loss improved from 1.07104 to 1.05373, saving model to recommend_weights.hdf5\n",
      "Epoch 5/15\n",
      "79868/79868 [==============================] - 8s 100us/step - loss: 1.6236 - val_loss: 0.9986\n",
      "\n",
      "Epoch 00005: val_loss improved from 1.05373 to 0.99863, saving model to recommend_weights.hdf5\n",
      "Epoch 6/15\n",
      "79868/79868 [==============================] - 8s 101us/step - loss: 1.5451 - val_loss: 0.9619\n",
      "\n",
      "Epoch 00006: val_loss improved from 0.99863 to 0.96191, saving model to recommend_weights.hdf5\n",
      "Epoch 7/15\n",
      "79868/79868 [==============================] - 8s 99us/step - loss: 1.4825 - val_loss: 0.9350\n",
      "\n",
      "Epoch 00007: val_loss improved from 0.96191 to 0.93496, saving model to recommend_weights.hdf5\n",
      "Epoch 8/15\n",
      "79868/79868 [==============================] - 8s 99us/step - loss: 1.4145 - val_loss: 0.9147\n",
      "\n",
      "Epoch 00008: val_loss improved from 0.93496 to 0.91466, saving model to recommend_weights.hdf5\n",
      "Epoch 9/15\n",
      "79868/79868 [==============================] - 8s 100us/step - loss: 1.3579 - val_loss: 0.8941\n",
      "\n",
      "Epoch 00009: val_loss improved from 0.91466 to 0.89407, saving model to recommend_weights.hdf5\n",
      "Epoch 10/15\n",
      "79868/79868 [==============================] - 8s 100us/step - loss: 1.2974 - val_loss: 0.8836\n",
      "\n",
      "Epoch 00010: val_loss improved from 0.89407 to 0.88358, saving model to recommend_weights.hdf5\n",
      "Epoch 11/15\n",
      "79868/79868 [==============================] - 8s 100us/step - loss: 1.2521 - val_loss: 0.8695\n",
      "\n",
      "Epoch 00011: val_loss improved from 0.88358 to 0.86947, saving model to recommend_weights.hdf5\n",
      "Epoch 12/15\n",
      "79868/79868 [==============================] - 8s 100us/step - loss: 1.1832 - val_loss: 0.8582\n",
      "\n",
      "Epoch 00012: val_loss improved from 0.86947 to 0.85820, saving model to recommend_weights.hdf5\n",
      "Epoch 13/15\n",
      "79868/79868 [==============================] - 8s 100us/step - loss: 1.1418 - val_loss: 0.8520\n",
      "\n",
      "Epoch 00013: val_loss improved from 0.85820 to 0.85198, saving model to recommend_weights.hdf5\n",
      "Epoch 14/15\n",
      "79868/79868 [==============================] - 8s 100us/step - loss: 1.0895 - val_loss: 0.8496\n",
      "\n",
      "Epoch 00014: val_loss improved from 0.85198 to 0.84963, saving model to recommend_weights.hdf5\n",
      "Epoch 15/15\n",
      "79868/79868 [==============================] - 8s 100us/step - loss: 1.0567 - val_loss: 0.8379\n",
      "\n",
      "Epoch 00015: val_loss improved from 0.84963 to 0.83789, saving model to recommend_weights.hdf5\n"
     ]
    }
   ],
   "source": [
    "history = model.fit([train.userId, train.movieId], train.rating, batch_size=64, epochs=15, \n",
    "          validation_data=([valid.userId, valid.movieId], \n",
    "            valid.rating) , callbacks=[checkpoint])"
   ]
  },
  {
   "cell_type": "markdown",
   "metadata": {},
   "source": [
    "### Till now the mean square error is 0.8379."
   ]
  },
  {
   "cell_type": "code",
   "execution_count": 17,
   "metadata": {
    "_uuid": "b851bbc633a1609497fe697e1491003f925a6c96"
   },
   "outputs": [
    {
     "data": {
      "image/png": "[encoded data removed]",
      "text/plain": [
       "<matplotlib.figure.Figure at 0x7f9d2c2dfc88>"
      ]
     },
     "metadata": {},
     "output_type": "display_data"
    }
   ],
   "source": [
    "from pylab import rcParams\n",
    "rcParams['figure.figsize'] = 10, 5\n",
    "import matplotlib.pyplot as plt\n",
    "plt.plot(history.history['loss'] , 'g')\n",
    "plt.plot(history.history['val_loss'] , 'b')\n",
    "plt.title('model loss')\n",
    "plt.ylabel('loss')\n",
    "plt.xlabel('epoch')\n",
    "plt.legend(['train', 'test'], loc='upper left')\n",
    "plt.grid(True)\n",
    "plt.show()"
   ]
  },
  {
   "cell_type": "markdown",
   "metadata": {},
   "source": [
    "### Continuing ...."
   ]
  },
  {
   "cell_type": "code",
   "execution_count": 18,
   "metadata": {
    "_uuid": "ac4241b8f1a5fc6438517c3dfef7c5a4d9fc4aeb"
   },
   "outputs": [
    {
     "name": "stdout",
     "output_type": "stream",
     "text": [
      "Train on 79868 samples, validate on 20136 samples\n",
      "Epoch 1/10\n",
      "79868/79868 [==============================] - 4s 50us/step - loss: 1.0191 - val_loss: 0.8380\n",
      "Epoch 2/10\n",
      "79868/79868 [==============================] - 4s 50us/step - loss: 0.9947 - val_loss: 0.8369\n",
      "Epoch 3/10\n",
      "79868/79868 [==============================] - 4s 51us/step - loss: 0.9641 - val_loss: 0.8336\n",
      "Epoch 4/10\n",
      "79868/79868 [==============================] - 4s 50us/step - loss: 0.9393 - val_loss: 0.8344\n",
      "Epoch 5/10\n",
      "79868/79868 [==============================] - 4s 51us/step - loss: 0.9115 - val_loss: 0.8315\n",
      "Epoch 6/10\n",
      "79868/79868 [==============================] - 4s 51us/step - loss: 0.8898 - val_loss: 0.8272\n",
      "Epoch 7/10\n",
      "79868/79868 [==============================] - 4s 50us/step - loss: 0.8640 - val_loss: 0.8280\n",
      "Epoch 8/10\n",
      "79868/79868 [==============================] - 4s 50us/step - loss: 0.8424 - val_loss: 0.8254\n",
      "Epoch 9/10\n",
      "79868/79868 [==============================] - 4s 49us/step - loss: 0.8183 - val_loss: 0.8285\n",
      "Epoch 10/10\n",
      "79868/79868 [==============================] - 4s 50us/step - loss: 0.7899 - val_loss: 0.8300\n"
     ]
    }
   ],
   "source": [
    "history = model.fit([train.userId, train.movieId], train.rating, batch_size=128, epochs=10, \n",
    "          validation_data=([valid.userId, valid.movieId], \n",
    "            valid.rating))"
   ]
  },
  {
   "cell_type": "markdown",
   "metadata": {},
   "source": [
    "### Now the mean square turned from 0.8379 to 0.8254 which is improved ...."
   ]
  },
  {
   "cell_type": "markdown",
   "metadata": {},
   "source": [
    "### Embedding matrix size changed to 64"
   ]
  },
  {
   "cell_type": "code",
   "execution_count": 26,
   "metadata": {
    "_uuid": "5705bf993eaa481cf312d8c28628bdb1e09939a8"
   },
   "outputs": [
    {
     "name": "stdout",
     "output_type": "stream",
     "text": [
      "__________________________________________________________________________________________________\n",
      "Layer (type)                    Output Shape         Param #     Connected to                     \n",
      "==================================================================================================\n",
      "user_input (InputLayer)         (None, 1)            0                                            \n",
      "__________________________________________________________________________________________________\n",
      "movie_input (InputLayer)        (None, 1)            0                                            \n",
      "__________________________________________________________________________________________________\n",
      "embedding_9 (Embedding)         (None, 1, 64)        42944       user_input[0][0]                 \n",
      "__________________________________________________________________________________________________\n",
      "embedding_10 (Embedding)        (None, 1, 64)        580224      movie_input[0][0]                \n",
      "__________________________________________________________________________________________________\n",
      "merge_4 (Merge)                 (None, 1, 1)         0           embedding_9[0][0]                \n",
      "                                                                 embedding_10[0][0]               \n",
      "__________________________________________________________________________________________________\n",
      "embedding_11 (Embedding)        (None, 1, 1)         671         user_input[0][0]                 \n",
      "__________________________________________________________________________________________________\n",
      "flatten_10 (Flatten)            (None, 1)            0           merge_4[0][0]                    \n",
      "__________________________________________________________________________________________________\n",
      "flatten_8 (Flatten)             (None, 1)            0           embedding_11[0][0]               \n",
      "__________________________________________________________________________________________________\n",
      "add_7 (Add)                     (None, 1)            0           flatten_10[0][0]                 \n",
      "                                                                 flatten_8[0][0]                  \n",
      "__________________________________________________________________________________________________\n",
      "dense_7 (Dense)                 (None, 16)           32          add_7[0][0]                      \n",
      "__________________________________________________________________________________________________\n",
      "dropout_4 (Dropout)             (None, 16)           0           dense_7[0][0]                    \n",
      "__________________________________________________________________________________________________\n",
      "embedding_12 (Embedding)        (None, 1, 1)         9066        movie_input[0][0]                \n",
      "__________________________________________________________________________________________________\n",
      "dense_8 (Dense)                 (None, 1)            17          dropout_4[0][0]                  \n",
      "__________________________________________________________________________________________________\n",
      "flatten_9 (Flatten)             (None, 1)            0           embedding_12[0][0]               \n",
      "__________________________________________________________________________________________________\n",
      "add_8 (Add)                     (None, 1)            0           dense_8[0][0]                    \n",
      "                                                                 flatten_9[0][0]                  \n",
      "==================================================================================================\n",
      "Total params: 632,954\n",
      "Trainable params: 632,954\n",
      "Non-trainable params: 0\n",
      "__________________________________________________________________________________________________\n"
     ]
    },
    {
     "name": "stderr",
     "output_type": "stream",
     "text": [
      "/opt/conda/lib/python3.6/site-packages/ipykernel_launcher.py:3: UserWarning: Update your `Embedding` call to the Keras 2 API: `Embedding(671, 64, input_length=1, embeddings_regularizer=<keras.reg...)`\n",
      "  This is separate from the ipykernel package so we can avoid doing imports until\n",
      "/opt/conda/lib/python3.6/site-packages/ipykernel_launcher.py:5: UserWarning: Update your `Embedding` call to the Keras 2 API: `Embedding(9066, 64, input_length=1, embeddings_regularizer=<keras.reg...)`\n",
      "  \"\"\"\n",
      "/opt/conda/lib/python3.6/site-packages/ipykernel_launcher.py:12: UserWarning: The `merge` function is deprecated and will be removed after 08/2017. Use instead layers from `keras.layers.merge`, e.g. `add`, `concatenate`, etc.\n",
      "  if sys.path[0] == '':\n",
      "/opt/conda/lib/python3.6/site-packages/Keras-2.1.5-py3.6.egg/keras/legacy/layers.py:465: UserWarning: The `Merge` layer is deprecated and will be removed after 08/2017. Use instead layers from `keras.layers.merge`, e.g. `add`, `concatenate`, etc.\n"
     ]
    }
   ],
   "source": [
    "factor =64\n",
    "user_input = Input(shape=(1,), dtype='int64', name='user_input')\n",
    "user_emb = Embedding(n_user, factor, input_length=1, W_regularizer=l2(1e-4))(user_input)\n",
    "movie_input = Input(shape=(1,), dtype='int64', name='movie_input')\n",
    "movie_emb = Embedding(n_movie, factor, input_length=1, W_regularizer=l2(1e-4))(movie_input)\n",
    "user_bias =  Embedding(n_user, 1, input_length = 1)(user_input)\n",
    "user_bias = Flatten()(user_bias)\n",
    "movie_bias = Embedding(n_movie, 1, input_length =1)(movie_input)\n",
    "movie_bias = Flatten()(movie_bias)\n",
    "lr =0.0001\n",
    "# Building a linear model\n",
    "inp = merge([user_emb, movie_emb], mode = 'dot')\n",
    "inp = Flatten()(inp)\n",
    "inp = keras.layers.add(([inp, user_bias]))\n",
    "inp = Dense(16 , activation = 'relu')(inp)\n",
    "inp = Dropout(0.4)(inp)\n",
    "inp = Dense(1)(inp)\n",
    "inp = keras.layers.add(([inp, movie_bias]))\n",
    "model = Model([user_input, movie_input], inp)\n",
    "model.compile(Adam(lr), loss = 'mse')\n",
    "model.summary()"
   ]
  },
  {
   "cell_type": "code",
   "execution_count": 27,
   "metadata": {
    "_uuid": "4514a3f0e530d5b796c285ca79f91518862bd1aa"
   },
   "outputs": [
    {
     "name": "stdout",
     "output_type": "stream",
     "text": [
      "Train on 79868 samples, validate on 20136 samples\n",
      "Epoch 1/15\n",
      "79868/79868 [==============================] - 9s 116us/step - loss: 11.7039 - val_loss: 9.3696\n",
      "\n",
      "Epoch 00001: val_loss did not improve\n",
      "Epoch 2/15\n",
      "79868/79868 [==============================] - 9s 112us/step - loss: 6.8963 - val_loss: 4.4992\n",
      "\n",
      "Epoch 00002: val_loss did not improve\n",
      "Epoch 3/15\n",
      "79868/79868 [==============================] - 9s 114us/step - loss: 3.2547 - val_loss: 1.8227\n",
      "\n",
      "Epoch 00003: val_loss did not improve\n",
      "Epoch 4/15\n",
      "79868/79868 [==============================] - 9s 117us/step - loss: 2.0577 - val_loss: 1.1970\n",
      "\n",
      "Epoch 00004: val_loss did not improve\n",
      "Epoch 5/15\n",
      "79868/79868 [==============================] - 9s 116us/step - loss: 1.8220 - val_loss: 1.0691\n",
      "\n",
      "Epoch 00005: val_loss did not improve\n",
      "Epoch 6/15\n",
      "79868/79868 [==============================] - 9s 115us/step - loss: 1.7379 - val_loss: 1.0159\n",
      "\n",
      "Epoch 00006: val_loss did not improve\n",
      "Epoch 7/15\n",
      "79868/79868 [==============================] - 9s 116us/step - loss: 1.6332 - val_loss: 0.9743\n",
      "\n",
      "Epoch 00007: val_loss did not improve\n",
      "Epoch 8/15\n",
      "79868/79868 [==============================] - 9s 115us/step - loss: 1.5207 - val_loss: 0.9421\n",
      "\n",
      "Epoch 00008: val_loss did not improve\n",
      "Epoch 9/15\n",
      "79868/79868 [==============================] - 9s 115us/step - loss: 1.4361 - val_loss: 0.9101\n",
      "\n",
      "Epoch 00009: val_loss did not improve\n",
      "Epoch 10/15\n",
      "79868/79868 [==============================] - 9s 117us/step - loss: 1.3332 - val_loss: 0.8980\n",
      "\n",
      "Epoch 00010: val_loss did not improve\n",
      "Epoch 11/15\n",
      "79868/79868 [==============================] - 9s 117us/step - loss: 1.2552 - val_loss: 0.8802\n",
      "\n",
      "Epoch 00011: val_loss did not improve\n",
      "Epoch 12/15\n",
      "79868/79868 [==============================] - 9s 115us/step - loss: 1.1780 - val_loss: 0.8720\n",
      "\n",
      "Epoch 00012: val_loss did not improve\n",
      "Epoch 13/15\n",
      "79868/79868 [==============================] - 9s 114us/step - loss: 1.0948 - val_loss: 0.8710\n",
      "\n",
      "Epoch 00013: val_loss did not improve\n",
      "Epoch 14/15\n",
      "79868/79868 [==============================] - 9s 110us/step - loss: 1.0197 - val_loss: 0.8651\n",
      "\n",
      "Epoch 00014: val_loss did not improve\n",
      "Epoch 15/15\n",
      "79868/79868 [==============================] - 9s 110us/step - loss: 0.9534 - val_loss: 0.8614\n",
      "\n",
      "Epoch 00015: val_loss did not improve\n"
     ]
    }
   ],
   "source": [
    "history = model.fit([train.userId, train.movieId], train.rating, batch_size=64, epochs=15, \n",
    "          validation_data=([valid.userId, valid.movieId], \n",
    "            valid.rating) , callbacks=[checkpoint])"
   ]
  },
  {
   "cell_type": "markdown",
   "metadata": {},
   "source": [
    "### Till now the mean square is 0.8614 but still their is scope for more improvement ...."
   ]
  },
  {
   "cell_type": "code",
   "execution_count": 35,
   "metadata": {
    "_uuid": "512ee4aa6c0cf5ba090fc4a5b62677dcdb115893"
   },
   "outputs": [
    {
     "data": {
      "image/png": "[encoded data removed]",
      "text/plain": [
       "<matplotlib.figure.Figure at 0x7f9d18198b00>"
      ]
     },
     "metadata": {},
     "output_type": "display_data"
    }
   ],
   "source": [
    "from pylab import rcParams\n",
    "rcParams['figure.figsize'] = 10, 5\n",
    "import matplotlib.pyplot as plt\n",
    "plt.plot(history.history['loss'] , 'p')\n",
    "plt.plot(history.history['val_loss'] , 'r')\n",
    "plt.title('model loss')\n",
    "plt.ylabel('loss')\n",
    "plt.xlabel('epoch')\n",
    "plt.legend(['train', 'test'], loc='upper left')\n",
    "plt.grid(True)\n",
    "plt.show()"
   ]
  },
  {
   "cell_type": "markdown",
   "metadata": {},
   "source": [
    "### Further reducing the learning rate and thus improving more and achieving mean square error of 0.8565"
   ]
  },
  {
   "cell_type": "markdown",
   "metadata": {},
   "source": [
    "### Similarly playing with batch_size and other hyperparameters after analysing the situation might lead to even better performance than this ...."
   ]
  },
  {
   "cell_type": "code",
   "execution_count": 36,
   "metadata": {
    "_uuid": "f6f85b3ba2a407b3516e0d5308c8125d6877c373"
   },
   "outputs": [
    {
     "name": "stdout",
     "output_type": "stream",
     "text": [
      "Train on 79868 samples, validate on 20136 samples\n",
      "Epoch 1/2\n",
      "79868/79868 [==============================] - 4s 55us/step - loss: 0.9059 - val_loss: 0.8600\n",
      "Epoch 2/2\n",
      "79868/79868 [==============================] - 4s 55us/step - loss: 0.8673 - val_loss: 0.8565\n"
     ]
    }
   ],
   "source": [
    "model.optimizer.lr = 0.00001\n",
    "history = model.fit([train.userId, train.movieId], train.rating, batch_size=128, epochs=2, \n",
    "          validation_data=([valid.userId, valid.movieId], \n",
    "            valid.rating))"
   ]
  },
  {
   "cell_type": "markdown",
   "metadata": {},
   "source": [
    "### Further reduction didn't helped but overfitted the model."
   ]
  },
  {
   "cell_type": "code",
   "execution_count": 37,
   "metadata": {
    "_uuid": "5c71c37dca63ea268150d574637ab2c0da265444"
   },
   "outputs": [
    {
     "name": "stdout",
     "output_type": "stream",
     "text": [
      "Train on 79868 samples, validate on 20136 samples\n",
      "Epoch 1/2\n",
      "79868/79868 [==============================] - 4s 55us/step - loss: 0.8295 - val_loss: 0.8622\n",
      "Epoch 2/2\n",
      "79868/79868 [==============================] - 5s 57us/step - loss: 0.7860 - val_loss: 0.8649\n"
     ]
    }
   ],
   "source": [
    "model.optimizer.lr = 0.000001\n",
    "history = model.fit([train.userId, train.movieId], train.rating, batch_size=128, epochs=2, \n",
    "          validation_data=([valid.userId, valid.movieId], \n",
    "            valid.rating))"
   ]
  },
  {
   "cell_type": "code",
   "execution_count": null,
   "metadata": {
    "_uuid": "7ea746a9da105a1b98b19f6fd9fc9fb01e73d9ff",
    "collapsed": true
   },
   "outputs": [],
   "source": []
  }
 ],
 "metadata": {
  "kernelspec": {
   "display_name": "Python 3",
   "language": "python",
   "name": "python3"
  },
  "language_info": {
   "codemirror_mode": {
    "name": "ipython",
    "version": 3
   },
   "file_extension": ".py",
   "mimetype": "text/x-python",
   "name": "python",
   "nbconvert_exporter": "python",
   "pygments_lexer": "ipython3",
   "version": "3.6.3"
  }
 },
 "nbformat": 4,
 "nbformat_minor": 1
}
