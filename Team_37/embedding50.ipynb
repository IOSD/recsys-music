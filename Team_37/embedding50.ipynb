{
 "cells": [
  {
   "cell_type": "code",
   "execution_count": 1,
   "metadata": {
    "_cell_guid": "b1076dfc-b9ad-4769-8c92-a6c4dae69d19",
    "_uuid": "8f2839f25d086af736a60e9eeb907d3b93b6e0e5"
   },
   "outputs": [
    {
     "name": "stdout",
     "output_type": "stream",
     "text": [
      "['ratings.csv', 'links.csv', 'tags.csv', 'README.txt', 'movies.csv']\n"
     ]
    }
   ],
   "source": [
    "import numpy as np # linear algebra\n",
    "import pandas as pd # data processing, CSV file I/O (e.g. pd.read_csv)\n",
    "import os\n",
    "print(os.listdir(\"../input\"))"
   ]
  },
  {
   "cell_type": "code",
   "execution_count": 2,
   "metadata": {
    "_cell_guid": "79c7e3d0-c299-4dcb-8224-4455121ee9b0",
    "_uuid": "d629ff2d2480ee46fbb7e2d37f6b5fab8052498a"
   },
   "outputs": [
    {
     "data": {
      "text/html": [
       "<div>\n",
       "<style scoped>\n",
       "    .dataframe tbody tr th:only-of-type {\n",
       "        vertical-align: middle;\n",
       "    }\n",
       "\n",
       "    .dataframe tbody tr th {\n",
       "        vertical-align: top;\n",
       "    }\n",
       "\n",
       "    .dataframe thead th {\n",
       "        text-align: right;\n",
       "    }\n",
       "</style>\n",
       "<table border=\"1\" class=\"dataframe\">\n",
       "  <thead>\n",
       "    <tr style=\"text-align: right;\">\n",
       "      <th></th>\n",
       "      <th>userId</th>\n",
       "      <th>movieId</th>\n",
       "      <th>rating</th>\n",
       "      <th>timestamp</th>\n",
       "    </tr>\n",
       "  </thead>\n",
       "  <tbody>\n",
       "    <tr>\n",
       "      <th>0</th>\n",
       "      <td>1</td>\n",
       "      <td>31</td>\n",
       "      <td>2.5</td>\n",
       "      <td>1260759144</td>\n",
       "    </tr>\n",
       "    <tr>\n",
       "      <th>1</th>\n",
       "      <td>1</td>\n",
       "      <td>1029</td>\n",
       "      <td>3.0</td>\n",
       "      <td>1260759179</td>\n",
       "    </tr>\n",
       "    <tr>\n",
       "      <th>2</th>\n",
       "      <td>1</td>\n",
       "      <td>1061</td>\n",
       "      <td>3.0</td>\n",
       "      <td>1260759182</td>\n",
       "    </tr>\n",
       "    <tr>\n",
       "      <th>3</th>\n",
       "      <td>1</td>\n",
       "      <td>1129</td>\n",
       "      <td>2.0</td>\n",
       "      <td>1260759185</td>\n",
       "    </tr>\n",
       "    <tr>\n",
       "      <th>4</th>\n",
       "      <td>1</td>\n",
       "      <td>1172</td>\n",
       "      <td>4.0</td>\n",
       "      <td>1260759205</td>\n",
       "    </tr>\n",
       "    <tr>\n",
       "      <th>5</th>\n",
       "      <td>1</td>\n",
       "      <td>1263</td>\n",
       "      <td>2.0</td>\n",
       "      <td>1260759151</td>\n",
       "    </tr>\n",
       "    <tr>\n",
       "      <th>6</th>\n",
       "      <td>1</td>\n",
       "      <td>1287</td>\n",
       "      <td>2.0</td>\n",
       "      <td>1260759187</td>\n",
       "    </tr>\n",
       "    <tr>\n",
       "      <th>7</th>\n",
       "      <td>1</td>\n",
       "      <td>1293</td>\n",
       "      <td>2.0</td>\n",
       "      <td>1260759148</td>\n",
       "    </tr>\n",
       "    <tr>\n",
       "      <th>8</th>\n",
       "      <td>1</td>\n",
       "      <td>1339</td>\n",
       "      <td>3.5</td>\n",
       "      <td>1260759125</td>\n",
       "    </tr>\n",
       "    <tr>\n",
       "      <th>9</th>\n",
       "      <td>1</td>\n",
       "      <td>1343</td>\n",
       "      <td>2.0</td>\n",
       "      <td>1260759131</td>\n",
       "    </tr>\n",
       "  </tbody>\n",
       "</table>\n",
       "</div>"
      ],
      "text/plain": [
       "   userId  movieId  rating   timestamp\n",
       "0       1       31     2.5  1260759144\n",
       "1       1     1029     3.0  1260759179\n",
       "2       1     1061     3.0  1260759182\n",
       "3       1     1129     2.0  1260759185\n",
       "4       1     1172     4.0  1260759205\n",
       "5       1     1263     2.0  1260759151\n",
       "6       1     1287     2.0  1260759187\n",
       "7       1     1293     2.0  1260759148\n",
       "8       1     1339     3.5  1260759125\n",
       "9       1     1343     2.0  1260759131"
      ]
     },
     "execution_count": 2,
     "metadata": {},
     "output_type": "execute_result"
    }
   ],
   "source": [
    "ratings = pd.read_csv('../input/ratings.csv')\n",
    "ratings.head(10)"
   ]
  },
  {
   "cell_type": "code",
   "execution_count": 3,
   "metadata": {
    "_uuid": "431ed9f852f7185db3b47445bae28a42401c65c2"
   },
   "outputs": [
    {
     "data": {
      "text/plain": [
       "(100004, 4)"
      ]
     },
     "execution_count": 3,
     "metadata": {},
     "output_type": "execute_result"
    }
   ],
   "source": [
    "ratings.shape"
   ]
  },
  {
   "cell_type": "code",
   "execution_count": 4,
   "metadata": {
    "_uuid": "8040284fe800923200f0d14227c8af50a426cb0c"
   },
   "outputs": [
    {
     "name": "stdout",
     "output_type": "stream",
     "text": [
      "671 9066\n"
     ]
    }
   ],
   "source": [
    "users = ratings.userId.unique()\n",
    "movies = ratings.movieId.unique()\n",
    "n_user = len(users)\n",
    "n_movie =  len(movies)\n",
    "print(n_user , n_movie)"
   ]
  },
  {
   "cell_type": "markdown",
   "metadata": {},
   "source": [
    "### Grouping the userId who is fondest for movies and rates the most."
   ]
  },
  {
   "cell_type": "code",
   "execution_count": 5,
   "metadata": {
    "_uuid": "c27bacaba23ceb4423477dd134f9f30273fbb791"
   },
   "outputs": [
    {
     "data": {
      "text/plain": [
       "547    2391\n",
       "564    1868\n",
       "624    1735\n",
       "15     1700\n",
       "73     1610\n",
       "452    1340\n",
       "468    1291\n",
       "380    1063\n",
       "311    1019\n",
       "30     1011\n",
       "294     947\n",
       "509     923\n",
       "580     922\n",
       "213     910\n",
       "212     876\n",
       "Name: userId, dtype: int64"
      ]
     },
     "execution_count": 5,
     "metadata": {},
     "output_type": "execute_result"
    }
   ],
   "source": [
    "ratings[\"userId\"].value_counts().sort_values(ascending=False)[0:15]"
   ]
  },
  {
   "cell_type": "markdown",
   "metadata": {},
   "source": [
    "### Grouping the top movies that are rated by the most of the users. The visualizations are being performed in other notebook."
   ]
  },
  {
   "cell_type": "code",
   "execution_count": 6,
   "metadata": {
    "_uuid": "e340d23cad9a53be63c1996f75473b4248103989"
   },
   "outputs": [
    {
     "data": {
      "text/plain": [
       "356     341\n",
       "296     324\n",
       "318     311\n",
       "593     304\n",
       "260     291\n",
       "480     274\n",
       "2571    259\n",
       "1       247\n",
       "527     244\n",
       "589     237\n",
       "1196    234\n",
       "110     228\n",
       "1270    226\n",
       "608     224\n",
       "2858    220\n",
       "Name: movieId, dtype: int64"
      ]
     },
     "execution_count": 6,
     "metadata": {},
     "output_type": "execute_result"
    }
   ],
   "source": [
    "ratings[\"movieId\"].value_counts().sort_values(ascending=False)[0:15]"
   ]
  },
  {
   "cell_type": "code",
   "execution_count": 7,
   "metadata": {
    "_uuid": "5f260ad7d9eaa5fe3229f2f6c240f3a4aab5aeee",
    "collapsed": true
   },
   "outputs": [],
   "source": [
    "#from sklearn import preprocessing\n",
    "#le = preprocessing.LabelEncoder()\n",
    "#le.fit(ratings.userId)\n",
    "#temp = le.transform(ratings.userId)\n",
    "#print(temp)"
   ]
  },
  {
   "cell_type": "code",
   "execution_count": 8,
   "metadata": {
    "_uuid": "27a3241d8598555c8ea27b2152ab16b7d26a38e6",
    "collapsed": true
   },
   "outputs": [],
   "source": [
    "#ratings.userId = temp"
   ]
  },
  {
   "cell_type": "markdown",
   "metadata": {},
   "source": [
    "#### Making dictionary and encoding the label or Ids manually."
   ]
  },
  {
   "cell_type": "code",
   "execution_count": 9,
   "metadata": {
    "_uuid": "b07fc50ef4820504b0bd3a43d3a10bedf0f9711e",
    "collapsed": true
   },
   "outputs": [],
   "source": [
    "userid2idx = {o:i for i,o in enumerate(users)}\n",
    "movieid2idx = {o:i for i,o in enumerate(movies)}\n",
    "ratings['userId'] = ratings['userId'].apply(lambda x: userid2idx[x])\n",
    "ratings['movieId'] = ratings['movieId'].apply(lambda x: movieid2idx[x])"
   ]
  },
  {
   "cell_type": "code",
   "execution_count": 10,
   "metadata": {
    "_uuid": "b81666d19a7f9fe40da0b6b5800739ad7bec5d22",
    "collapsed": true
   },
   "outputs": [],
   "source": [
    "#movieid2idx = {o:i for i,o in enumerate(movies)}\n",
    "#ratings['movieId'] = ratings['movieId'].apply(lambda x: movieid2idx[x])"
   ]
  },
  {
   "cell_type": "markdown",
   "metadata": {},
   "source": [
    "#### Splitting the total size randomly to train and valid. "
   ]
  },
  {
   "cell_type": "code",
   "execution_count": 11,
   "metadata": {
    "_uuid": "d8394c297ccff79d0e9f50682bb475d11ed72fd3",
    "collapsed": true
   },
   "outputs": [],
   "source": [
    "split = np.random.rand(len(ratings)) < 0.8\n",
    "train = ratings[split]\n",
    "valid = ratings[~split]"
   ]
  },
  {
   "cell_type": "code",
   "execution_count": 12,
   "metadata": {
    "_uuid": "1d31a35c0e7df8cce21718515035c6946d75a328"
   },
   "outputs": [
    {
     "name": "stdout",
     "output_type": "stream",
     "text": [
      "(80006, 4) (19998, 4)\n"
     ]
    }
   ],
   "source": [
    "print(train.shape , valid.shape)"
   ]
  },
  {
   "cell_type": "code",
   "execution_count": 13,
   "metadata": {
    "_uuid": "b3e48279883ca5b7d164fd26ec83ba6cf36d23f2"
   },
   "outputs": [
    {
     "name": "stderr",
     "output_type": "stream",
     "text": [
      "/opt/conda/lib/python3.6/site-packages/h5py/__init__.py:36: FutureWarning: Conversion of the second argument of issubdtype from `float` to `np.floating` is deprecated. In future, it will be treated as `np.float64 == np.dtype(float).type`.\n",
      "  from ._conv import register_converters as _register_converters\n",
      "Using TensorFlow backend.\n"
     ]
    }
   ],
   "source": [
    "import keras\n",
    "from keras import backend as K\n",
    "from keras.utils.data_utils import get_file\n",
    "from keras.utils import np_utils\n",
    "from keras.utils.np_utils import to_categorical\n",
    "from keras.models import Sequential, Model\n",
    "from keras.layers import Input, Embedding, Reshape, merge, LSTM\n",
    "from keras.layers import TimeDistributed, Activation, SimpleRNN, GRU\n",
    "from keras.layers.core import Flatten, Dense, Dropout, Lambda\n",
    "from keras.regularizers import l2 , l1\n",
    "from keras.layers.normalization import BatchNormalization\n",
    "from keras.optimizers import SGD, RMSprop, Adam\n",
    "from keras.metrics import categorical_crossentropy"
   ]
  },
  {
   "cell_type": "code",
   "execution_count": 57,
   "metadata": {
    "_uuid": "d5889efcf89fa33beff06098c15955ea3b577826",
    "collapsed": true
   },
   "outputs": [],
   "source": [
    "filepath=\"recommend_weights.hdf5\"\n",
    "from keras.callbacks import ModelCheckpoint\n",
    "checkpoint = ModelCheckpoint(filepath, monitor='val_loss', verbose=1, save_best_only=True, mode='min')"
   ]
  },
  {
   "cell_type": "markdown",
   "metadata": {},
   "source": [
    "### Checkpointing the model before overfitting and in this case I have used an embedding layer of 50 as latent vector size. "
   ]
  },
  {
   "cell_type": "code",
   "execution_count": 58,
   "metadata": {
    "_uuid": "9cfb38c8d744f0d191aa95fb81c451c798373cec"
   },
   "outputs": [
    {
     "name": "stderr",
     "output_type": "stream",
     "text": [
      "/opt/conda/lib/python3.6/site-packages/ipykernel_launcher.py:3: UserWarning: Update your `Embedding` call to the Keras 2 API: `Embedding(671, 50, input_length=1, embeddings_regularizer=<keras.reg...)`\n",
      "  This is separate from the ipykernel package so we can avoid doing imports until\n"
     ]
    }
   ],
   "source": [
    "factor =50\n",
    "user_input = Input(shape=(1,), dtype='int64', name='user_input')\n",
    "user_emb = Embedding(n_user, factor, input_length=1, W_regularizer=l2(1e-4))(user_input)"
   ]
  },
  {
   "cell_type": "markdown",
   "metadata": {},
   "source": [
    "### Input -> Embedding layer -> merging -> remaining neural net"
   ]
  },
  {
   "cell_type": "code",
   "execution_count": 59,
   "metadata": {
    "_uuid": "e9b1155d292930aba7714d1b565ec043e30735fd"
   },
   "outputs": [
    {
     "name": "stderr",
     "output_type": "stream",
     "text": [
      "/opt/conda/lib/python3.6/site-packages/ipykernel_launcher.py:2: UserWarning: Update your `Embedding` call to the Keras 2 API: `Embedding(9066, 50, input_length=1, embeddings_regularizer=<keras.reg...)`\n",
      "  \n"
     ]
    }
   ],
   "source": [
    "movie_input = Input(shape=(1,), dtype='int64', name='movie_input')\n",
    "movie_emb = Embedding(n_movie, factor, input_length=1, W_regularizer=l2(1e-4))(movie_input)"
   ]
  },
  {
   "cell_type": "markdown",
   "metadata": {},
   "source": [
    "#### Also taking the biases into account."
   ]
  },
  {
   "cell_type": "code",
   "execution_count": 60,
   "metadata": {
    "_uuid": "a6c30a55264a0069e165d256edb19d97f3c590c9",
    "collapsed": true
   },
   "outputs": [],
   "source": [
    "user_bias =  Embedding(n_user, 1, input_length = 1)(user_input)\n",
    "user_bias = Flatten()(user_bias)\n",
    "movie_bias = Embedding(n_movie, 1, input_length =1)(movie_input)\n",
    "movie_bias = Flatten()(movie_bias)"
   ]
  },
  {
   "cell_type": "code",
   "execution_count": 70,
   "metadata": {
    "_uuid": "c9f806a37ee93704554624cbb62e36343a3f272f"
   },
   "outputs": [
    {
     "name": "stdout",
     "output_type": "stream",
     "text": [
      "__________________________________________________________________________________________________\n",
      "Layer (type)                    Output Shape         Param #     Connected to                     \n",
      "==================================================================================================\n",
      "user_input (InputLayer)         (None, 1)            0                                            \n",
      "__________________________________________________________________________________________________\n",
      "movie_input (InputLayer)        (None, 1)            0                                            \n",
      "__________________________________________________________________________________________________\n",
      "embedding_9 (Embedding)         (None, 1, 50)        33550       user_input[0][0]                 \n",
      "__________________________________________________________________________________________________\n",
      "embedding_10 (Embedding)        (None, 1, 50)        453300      movie_input[0][0]                \n",
      "__________________________________________________________________________________________________\n",
      "merge_37 (Merge)                (None, 1, 1)         0           embedding_9[0][0]                \n",
      "                                                                 embedding_10[0][0]               \n",
      "__________________________________________________________________________________________________\n",
      "embedding_11 (Embedding)        (None, 1, 1)         671         user_input[0][0]                 \n",
      "__________________________________________________________________________________________________\n",
      "flatten_21 (Flatten)            (None, 1)            0           merge_37[0][0]                   \n",
      "__________________________________________________________________________________________________\n",
      "flatten_15 (Flatten)            (None, 1)            0           embedding_11[0][0]               \n",
      "__________________________________________________________________________________________________\n",
      "add_7 (Add)                     (None, 1)            0           flatten_21[0][0]                 \n",
      "                                                                 flatten_15[0][0]                 \n",
      "__________________________________________________________________________________________________\n",
      "dense_32 (Dense)                (None, 16)           32          add_7[0][0]                      \n",
      "__________________________________________________________________________________________________\n",
      "dropout_18 (Dropout)            (None, 16)           0           dense_32[0][0]                   \n",
      "__________________________________________________________________________________________________\n",
      "embedding_12 (Embedding)        (None, 1, 1)         9066        movie_input[0][0]                \n",
      "__________________________________________________________________________________________________\n",
      "dense_33 (Dense)                (None, 1)            17          dropout_18[0][0]                 \n",
      "__________________________________________________________________________________________________\n",
      "flatten_16 (Flatten)            (None, 1)            0           embedding_12[0][0]               \n",
      "__________________________________________________________________________________________________\n",
      "add_8 (Add)                     (None, 1)            0           dense_33[0][0]                   \n",
      "                                                                 flatten_16[0][0]                 \n",
      "==================================================================================================\n",
      "Total params: 496,636\n",
      "Trainable params: 496,636\n",
      "Non-trainable params: 0\n",
      "__________________________________________________________________________________________________\n"
     ]
    },
    {
     "name": "stderr",
     "output_type": "stream",
     "text": [
      "/opt/conda/lib/python3.6/site-packages/ipykernel_launcher.py:3: UserWarning: The `merge` function is deprecated and will be removed after 08/2017. Use instead layers from `keras.layers.merge`, e.g. `add`, `concatenate`, etc.\n",
      "  This is separate from the ipykernel package so we can avoid doing imports until\n",
      "/opt/conda/lib/python3.6/site-packages/Keras-2.1.5-py3.6.egg/keras/legacy/layers.py:465: UserWarning: The `Merge` layer is deprecated and will be removed after 08/2017. Use instead layers from `keras.layers.merge`, e.g. `add`, `concatenate`, etc.\n"
     ]
    }
   ],
   "source": [
    "lr =0.0004\n",
    "# Building a linear model\n",
    "inp = merge([user_emb, movie_emb], mode = 'dot')\n",
    "inp = Flatten()(inp)\n",
    "inp = keras.layers.add(([inp, user_bias]))\n",
    "inp = Dense(16 , activation = 'relu')(inp)\n",
    "inp = Dropout(0.4)(inp)\n",
    "inp = Dense(1)(inp)\n",
    "inp = keras.layers.add(([inp, movie_bias]))\n",
    "model = Model([user_input, movie_input], inp)\n",
    "model.compile(Adam(lr), loss = 'mse')\n",
    "model.summary()"
   ]
  },
  {
   "cell_type": "code",
   "execution_count": 71,
   "metadata": {
    "_uuid": "896eb92b996909738fcf9abcfff3d21f26a8d3d0"
   },
   "outputs": [
    {
     "name": "stdout",
     "output_type": "stream",
     "text": [
      "Train on 80006 samples, validate on 19998 samples\n",
      "Epoch 1/15\n",
      "80006/80006 [==============================] - 6s 70us/step - loss: 8.2319 - val_loss: 4.8647\n",
      "\n",
      "Epoch 00001: val_loss did not improve\n",
      "Epoch 2/15\n",
      "80006/80006 [==============================] - 4s 56us/step - loss: 2.5080 - val_loss: 1.1638\n",
      "\n",
      "Epoch 00002: val_loss did not improve\n",
      "Epoch 3/15\n",
      "80006/80006 [==============================] - 4s 56us/step - loss: 1.6487 - val_loss: 1.0114\n",
      "\n",
      "Epoch 00003: val_loss did not improve\n",
      "Epoch 4/15\n",
      "80006/80006 [==============================] - 5s 57us/step - loss: 1.5370 - val_loss: 0.9668\n",
      "\n",
      "Epoch 00004: val_loss did not improve\n",
      "Epoch 5/15\n",
      "80006/80006 [==============================] - 4s 56us/step - loss: 1.4556 - val_loss: 0.9375\n",
      "\n",
      "Epoch 00005: val_loss did not improve\n",
      "Epoch 6/15\n",
      "80006/80006 [==============================] - 4s 56us/step - loss: 1.3764 - val_loss: 0.9213\n",
      "\n",
      "Epoch 00006: val_loss did not improve\n",
      "Epoch 7/15\n",
      "80006/80006 [==============================] - 4s 56us/step - loss: 1.3062 - val_loss: 0.9098\n",
      "\n",
      "Epoch 00007: val_loss did not improve\n",
      "Epoch 8/15\n",
      "80006/80006 [==============================] - 4s 56us/step - loss: 1.2214 - val_loss: 0.8941\n",
      "\n",
      "Epoch 00008: val_loss did not improve\n",
      "Epoch 9/15\n",
      "80006/80006 [==============================] - 4s 56us/step - loss: 1.1454 - val_loss: 0.8877\n",
      "\n",
      "Epoch 00009: val_loss did not improve\n",
      "Epoch 10/15\n",
      "80006/80006 [==============================] - 4s 56us/step - loss: 1.0700 - val_loss: 0.8747\n",
      "\n",
      "Epoch 00010: val_loss did not improve\n",
      "Epoch 11/15\n",
      "80006/80006 [==============================] - 4s 56us/step - loss: 0.9977 - val_loss: 0.8670\n",
      "\n",
      "Epoch 00011: val_loss did not improve\n",
      "Epoch 12/15\n",
      "80006/80006 [==============================] - 4s 56us/step - loss: 0.9399 - val_loss: 0.8567\n",
      "\n",
      "Epoch 00012: val_loss improved from 0.85940 to 0.85672, saving model to recommend_weights.hdf5\n",
      "Epoch 13/15\n",
      "80006/80006 [==============================] - 4s 56us/step - loss: 0.8850 - val_loss: 0.8504\n",
      "\n",
      "Epoch 00013: val_loss improved from 0.85672 to 0.85041, saving model to recommend_weights.hdf5\n",
      "Epoch 14/15\n",
      "80006/80006 [==============================] - 4s 56us/step - loss: 0.8399 - val_loss: 0.8503\n",
      "\n",
      "Epoch 00014: val_loss improved from 0.85041 to 0.85026, saving model to recommend_weights.hdf5\n",
      "Epoch 15/15\n",
      "80006/80006 [==============================] - 4s 56us/step - loss: 0.8007 - val_loss: 0.8458\n",
      "\n",
      "Epoch 00015: val_loss improved from 0.85026 to 0.84582, saving model to recommend_weights.hdf5\n"
     ]
    }
   ],
   "source": [
    "history = model.fit([train.userId, train.movieId], train.rating, batch_size=128, epochs=15, \n",
    "          validation_data=([valid.userId, valid.movieId], \n",
    "            valid.rating) , callbacks=[checkpoint])"
   ]
  },
  {
   "cell_type": "markdown",
   "metadata": {},
   "source": [
    "### Till now the mean square is 0.84852 but still their is scope for more improvement ...."
   ]
  },
  {
   "cell_type": "markdown",
   "metadata": {},
   "source": [
    "### Further reducing the learning rate and thus improving more and achieving mean square error of 0.8375"
   ]
  },
  {
   "cell_type": "code",
   "execution_count": 75,
   "metadata": {
    "_uuid": "465807681282e174bdd3d398428a553a70de044d"
   },
   "outputs": [
    {
     "name": "stdout",
     "output_type": "stream",
     "text": [
      "Train on 80006 samples, validate on 19998 samples\n",
      "Epoch 1/3\n",
      "80006/80006 [==============================] - 4s 52us/step - loss: 0.7230 - val_loss: 0.8394\n",
      "Epoch 2/3\n",
      "80006/80006 [==============================] - 5s 57us/step - loss: 0.6947 - val_loss: 0.8373\n",
      "Epoch 3/3\n",
      "80006/80006 [==============================] - 4s 56us/step - loss: 0.6729 - val_loss: 0.8375\n"
     ]
    }
   ],
   "source": [
    "model.optimizer.lr = 0.00001\n",
    "history1 = model.fit([train.userId, train.movieId], train.rating, batch_size=128, epochs=3, \n",
    "          validation_data=([valid.userId, valid.movieId], \n",
    "            valid.rating))"
   ]
  },
  {
   "cell_type": "code",
   "execution_count": 78,
   "metadata": {
    "_uuid": "68fe596a619dd7e6aa8ff1e0760519944e076db0"
   },
   "outputs": [
    {
     "data": {
      "image/png": "[encoded data removed]",
      "text/plain": [
       "<matplotlib.figure.Figure at 0x7f782d9e3908>"
      ]
     },
     "metadata": {},
     "output_type": "display_data"
    }
   ],
   "source": [
    "from pylab import rcParams\n",
    "rcParams['figure.figsize'] = 10, 5\n",
    "import matplotlib.pyplot as plt\n",
    "plt.plot(history.history['loss'] , 'g')\n",
    "plt.plot(history.history['val_loss'] , 'b')\n",
    "plt.title('model loss')\n",
    "plt.ylabel('loss')\n",
    "plt.xlabel('epoch')\n",
    "plt.legend(['train', 'test'], loc='upper left')\n",
    "plt.grid(True)\n",
    "plt.show()"
   ]
  },
  {
   "cell_type": "code",
   "execution_count": 83,
   "metadata": {
    "_uuid": "2a3a856677452710bffc8f39923f5bc2f6b64d33",
    "collapsed": true
   },
   "outputs": [],
   "source": [
    "toprate = ratings.groupby('movieId')['rating'].count()\n",
    "topMovies = toprate.sort_values(ascending=False)[:3000]\n",
    "topMovies = np.array(topMovies.index)"
   ]
  },
  {
   "cell_type": "code",
   "execution_count": 84,
   "metadata": {
    "_uuid": "ea376385a05627c8cf034e731b76554c60902d28"
   },
   "outputs": [
    {
     "data": {
      "text/plain": [
       "(3000, 50)"
      ]
     },
     "execution_count": 84,
     "metadata": {},
     "output_type": "execute_result"
    }
   ],
   "source": [
    "get_movie_emb = Model(movie_input, movie_emb)\n",
    "movie_embedding = np.squeeze(get_movie_emb.predict([topMovies]))\n",
    "movie_embedding.shape"
   ]
  },
  {
   "cell_type": "code",
   "execution_count": 93,
   "metadata": {
    "_uuid": "d0ccf32646789bb3a5934496f4b73484295c400f"
   },
   "outputs": [
    {
     "data": {
      "text/plain": [
       "array([[-0.07672875, -0.07663365, -0.0465707 ,  0.13321915,  0.00865331,\n",
       "        -0.03406987,  0.10273724, -0.02132043,  0.06384712, -0.16259816,\n",
       "         0.10340292, -0.10185062, -0.04102888, -0.01525759, -0.19752127],\n",
       "       [ 0.02856897,  0.00820881, -0.02559759, -0.07349861,  0.01045733,\n",
       "         0.1531114 , -0.04459317,  0.10907005, -0.07003485,  0.04661378,\n",
       "         0.04710352, -0.16994552,  0.19181763, -0.03779722, -0.01768016],\n",
       "       [ 0.00974791, -0.0021386 , -0.01588316,  0.09841032, -0.05034545,\n",
       "         0.06117765, -0.00687807,  0.05834039,  0.04245455,  0.06375655,\n",
       "         0.09261705, -0.03817103, -0.0387565 , -0.05116206,  0.05962013],\n",
       "       [ 0.12208578,  0.08781894, -0.09137188,  0.18379325, -0.0031487 ,\n",
       "         0.04189131, -0.13069619,  0.14918318,  0.05960361, -0.05869122,\n",
       "         0.0019134 , -0.07659383,  0.10560706,  0.0049676 ,  0.06587296],\n",
       "       [ 0.05369265,  0.06730427, -0.15658881, -0.12114594, -0.03897894,\n",
       "        -0.03314263,  0.07984608, -0.06418684, -0.09355148,  0.03499363,\n",
       "        -0.11056139, -0.06515037,  0.01451287, -0.03869575,  0.07294057],\n",
       "       [-0.04199456,  0.06975552,  0.02643366,  0.01114041, -0.08891675,\n",
       "        -0.03995128,  0.01738717,  0.12685375, -0.02099399, -0.01189777,\n",
       "         0.10121843, -0.09555497,  0.04643358,  0.04374678, -0.04130702],\n",
       "       [ 0.07472026,  0.03302776, -0.13709268,  0.1255503 ,  0.00439104,\n",
       "        -0.0390558 ,  0.07193513,  0.02330242,  0.09788055, -0.01286843,\n",
       "         0.04836906, -0.21828334, -0.01968995, -0.08284192,  0.02286889]],\n",
       "      dtype=float32)"
      ]
     },
     "execution_count": 93,
     "metadata": {},
     "output_type": "execute_result"
    }
   ],
   "source": [
    "movie_embedding[0:7,0:15]"
   ]
  },
  {
   "cell_type": "code",
   "execution_count": 87,
   "metadata": {
    "_uuid": "dd306725598901e8f6c32a4e8e6712c8707e978a",
    "collapsed": true
   },
   "outputs": [],
   "source": [
    "pred = model.predict([valid.userId, valid.movieId])"
   ]
  },
  {
   "cell_type": "code",
   "execution_count": 89,
   "metadata": {
    "_uuid": "de30440d65f8cf0d911c3da24431558e0204e099"
   },
   "outputs": [
    {
     "data": {
      "text/plain": [
       "(19998, 1)"
      ]
     },
     "execution_count": 89,
     "metadata": {},
     "output_type": "execute_result"
    }
   ],
   "source": [
    "print(pred.shape)"
   ]
  },
  {
   "cell_type": "markdown",
   "metadata": {},
   "source": [
    "#### Predicting the ratings for the valid set"
   ]
  },
  {
   "cell_type": "code",
   "execution_count": 90,
   "metadata": {
    "_uuid": "7329abc5d3831778215ea01ec97ce886c3b60522"
   },
   "outputs": [
    {
     "name": "stdout",
     "output_type": "stream",
     "text": [
      "[[3.349411 ]\n",
      " [3.4059608]\n",
      " [2.744988 ]\n",
      " ...\n",
      " [4.0520964]\n",
      " [4.8035803]\n",
      " [3.7002375]]\n"
     ]
    }
   ],
   "source": [
    "print(pred)"
   ]
  },
  {
   "cell_type": "code",
   "execution_count": null,
   "metadata": {
    "_uuid": "36c4e4e2f45441bc86426907dda18509ec36895b",
    "collapsed": true
   },
   "outputs": [],
   "source": []
  }
 ],
 "metadata": {
  "kernelspec": {
   "display_name": "Python 3",
   "language": "python",
   "name": "python3"
  },
  "language_info": {
   "codemirror_mode": {
    "name": "ipython",
    "version": 3
   },
   "file_extension": ".py",
   "mimetype": "text/x-python",
   "name": "python",
   "nbconvert_exporter": "python",
   "pygments_lexer": "ipython3",
   "version": "3.6.3"
  }
 },
 "nbformat": 4,
 "nbformat_minor": 1
}
