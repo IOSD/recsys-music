{
 "cells": [
  {
   "cell_type": "code",
   "execution_count": 23,
   "metadata": {},
   "outputs": [],
   "source": [
    "#This method will use item item coocurrence matrix\n",
    "#the results can be improved by incresing the size of dataset used\n",
    "#we used dataset location on our laptop....please change address below to change location for using dataset provided by us below\n",
    "\n",
    "import numpy as np\n",
    "import pandas as pd\n",
    "from scipy import optimize"
   ]
  },
  {
   "cell_type": "code",
   "execution_count": 24,
   "metadata": {},
   "outputs": [],
   "source": [
    "def item_item_collaborative_recommender(train,for_user):\n",
    "\tuser_song=(train['song'][train['user_id']==for_user].drop_duplicates())\n",
    "\tprint('\\n###Songs in test user playlist###\\n\\n')\n",
    "\tprint(user_song[1:10])\n",
    "\tprint('\\n###Please wait ...Recommending Songs###\\n\\n')\n",
    "\t'''print(user_song)\n",
    "\tuser_song=list()\n",
    "\tuser_song.append(for_user)'''\n",
    "\t#it contains all songs in test user playlist\n",
    "\tuser_song=user_song.tolist()\n",
    "\t#it contains all songs in dataset\n",
    "\tall_song=train['song'].drop_duplicates().tolist()\n",
    "\t#it will contain all users who also listen to test user songs\n",
    "\tuser_song_listner=list()\n",  
    "\tfor i in range(0,len(user_song)):\n",
    "\t\t#print(len(user_song)-i)\n",
    "\t\tusers=set((train['user_id'][train['song']==user_song[i]].drop_duplicates()).tolist())\n",
    "\t\tuser_song_listner.append(users)\n",
    "\t#initiliaze coocurrence matrix\twith all song as column and test user songs as rows\n",
    "\tco_occurence_matrix=np.zeros((len(user_song),len(all_song)))\t\n",
    "\tfor j in range(0,len(all_song)):\n",
    "\t\t#print(len(all_song)-j)\n",
    "\t\tvertical_users=set((train['user_id'][train['song']==all_song[j]].drop_duplicates()).tolist())\n",
    "\t\tfor i in range(0,len(user_song)):\n",
    "\t\t\thorizontal_users=user_song_listner[i]\n",
    "\t\t\tintersection=vertical_users.intersection(horizontal_users)\n",
    "\t\t\tif len(intersection)!=0:\n",
    "\t\t\t\tco_occurence_matrix[i][j]=len(intersection)\n",
    "\t#finding scores of respective songs and recommend song with highest score\n",
    "\tscore_list=co_occurence_matrix.sum(axis=0)\n",
    "\tscore_list=score_list.tolist()\n",
    "\t#reordering in descending order\n",
    "\tsort_index=sorted([(score,index) for index,score in enumerate(score_list)],reverse=True)\n",
    "\tcolumn=['user_id','song','score','rank']\n",
    "\trecommend=pd.DataFrame(columns=column)\n",
    "\trank=0\n",
    "\tfor i,j in sort_index:\n",
    "\t\t#we recommend new songs not in user playlist\n",
    "\t\tif all_song[j] not in user_song :\n",
    "\t\t\trecommend.loc[rank]=[for_user,all_song[j],i,rank]\n",
    "\t\t\trank=rank+1\n",
    "\t\t#we recommend top 20 songs\n",
    "\t\tif rank==10:\n",
    "\t\t\tbreak\t\n",
    "\treturn recommend\t\n"
   ]
  },
  {
   "cell_type": "code",
   "execution_count": 25,
   "metadata": {},
   "outputs": [
    {
     "name": "stdout",
     "output_type": "stream",
     "text": [
      "### Size of our dataset =  (1116609, 6)\n"
     ]
    }
   ],
   "source": [
    "#if testing then use the below quoted text to download dataset and comment out our dataset location\n",
    "'''song='https://d396qusza40orc.cloudfront.net/phoenixassets/song_data.csv'\n",
    "music_data=pd.read_csv(song)'''\n",
    "#we will use triplets of (song,user_id,listen count) for our prediction\n",
    "music_data=pd.read_csv(r'C:\\Users\\shashank\\Desktop\\music_data_for_first_2.csv')\n",
    "print('### Size of our dataset = ',music_data.shape)"
   ]
  },
  {
   "cell_type": "code",
   "execution_count": 26,
   "metadata": {},
   "outputs": [],
   "source": [
    "#we take a subset of our dataset for faster processing\n",
    "music_data=music_data[1:10000]\n",
    "unique_user_id=music_data[['user_id']].drop_duplicates()\n",
    "#extracting unique users and songs\n",
    "all_song=music_data['song'].drop_duplicates().tolist()\n",
    "user=list(unique_user_id['user_id'])"
   ]
  },
  {
   "cell_type": "code",
   "execution_count": 27,
   "metadata": {},
   "outputs": [
    {
     "name": "stdout",
     "output_type": "stream",
     "text": [
      "### Size of our subset =  (9999, 6)\n",
      "\n",
      "### Total songs in our subset =  5154\n",
      "\n",
      "### Total users in our subset =  595\n"
     ]
    }
   ],
   "source": [
    "print('### Size of our subset = ',music_data.shape)\n",
    "print('\\n### Total songs in our subset = ',len(all_song))\n",
    "print('\\n### Total users in our subset = ',len(user))\n",
    "\n"
   ]
  },
  {
   "cell_type": "code",
   "execution_count": 30,
   "metadata": {},
   "outputs": [
    {
     "name": "stdout",
     "output_type": "stream",
     "text": [
      "\n",
      "###Songs in test user playlist###\n",
      "\n",
      "\n",
      "114       Life In Technicolor - Coldplay\n",
      "115                    Clocks - Coldplay\n",
      "116          Strawberry Swing - Coldplay\n",
      "117    Life In Technicolor ii - Coldplay\n",
      "118             The Scientist - Coldplay\n",
      "119               In My Place - Coldplay\n",
      "120                     Lost! - Coldplay\n",
      "121                    Yellow - Coldplay\n",
      "122            Speed Of Sound - Coldplay\n",
      "Name: song, dtype: object\n",
      "\n",
      "###Please wait ...Recommending Songs###\n",
      "\n",
      "\n",
      "                                    user_id  \\\n",
      "0  9d6f0ead607ac2a6c2460e4d14fb439a146b7dec   \n",
      "1  9d6f0ead607ac2a6c2460e4d14fb439a146b7dec   \n",
      "2  9d6f0ead607ac2a6c2460e4d14fb439a146b7dec   \n",
      "3  9d6f0ead607ac2a6c2460e4d14fb439a146b7dec   \n",
      "4  9d6f0ead607ac2a6c2460e4d14fb439a146b7dec   \n",
      "5  9d6f0ead607ac2a6c2460e4d14fb439a146b7dec   \n",
      "6  9d6f0ead607ac2a6c2460e4d14fb439a146b7dec   \n",
      "7  9d6f0ead607ac2a6c2460e4d14fb439a146b7dec   \n",
      "8  9d6f0ead607ac2a6c2460e4d14fb439a146b7dec   \n",
      "9  9d6f0ead607ac2a6c2460e4d14fb439a146b7dec   \n",
      "\n",
      "                                                song  score rank  \n",
      "0                              Secrets - OneRepublic   18.0    0  \n",
      "1  Dog Days Are Over (Radio Edit) - Florence + Th...   16.0    1  \n",
      "2                            Don\\'t Panic - Coldplay   13.0    2  \n",
      "3                                  Shiver - Coldplay   13.0    3  \n",
      "4                                 Fix You - Coldplay   13.0    4  \n",
      "5                                    Uprising - Muse   13.0    5  \n",
      "6                           Sehr kosmisch - Harmonia   13.0    6  \n",
      "7  Bleed It Out [Live At Milton Keynes] - Linkin ...   12.0    7  \n",
      "8  Lucky (Album Version) - Jason Mraz & Colbie Ca...   12.0    8  \n",
      "9                                     Halo - Beyoncé   11.0    9  \n"
     ]
    }
   ],
   "source": [
    "#Item-Item collaborative based filtering\n",
    "#for testing song similarity replace Somebody To Love - Justin Bieber instead of user[0]\n",
    "#change to index of user[i] to see different results\n",
    "popularity_result=item_item_collaborative_recommender(music_data,user[7])\n",
    "print(popularity_result)"
   ]
  },
  {
   "cell_type": "code",
   "execution_count": 31,
   "metadata": {},
   "outputs": [
    {
     "name": "stdout",
     "output_type": "stream",
     "text": [
      "\n",
      "###Songs in test user playlist###\n",
      "\n",
      "\n",
      "1783                The Bitter End - Placebo\n",
      "1784         Lay Your Hands On Me - Bon Jovi\n",
      "1785                  Burn - Nine Inch Nails\n",
      "1786                  Wayli Aah - Maya Nasri\n",
      "1787    Crackers and Cheese - Tea Leaf Green\n",
      "1788                  Hurt - Nine Inch Nails\n",
      "1789           Stacked Actors - Foo Fighters\n",
      "1790           Skin And Bones - Foo Fighters\n",
      "1791                Closer - Nine Inch Nails\n",
      "Name: song, dtype: object\n",
      "\n",
      "###Please wait ...Recommending Songs###\n",
      "\n",
      "\n",
      "                                    user_id  \\\n",
      "0  e4c05157f8cebdf3b9d689c441ba97c5ed5db05b   \n",
      "1  e4c05157f8cebdf3b9d689c441ba97c5ed5db05b   \n",
      "2  e4c05157f8cebdf3b9d689c441ba97c5ed5db05b   \n",
      "3  e4c05157f8cebdf3b9d689c441ba97c5ed5db05b   \n",
      "4  e4c05157f8cebdf3b9d689c441ba97c5ed5db05b   \n",
      "5  e4c05157f8cebdf3b9d689c441ba97c5ed5db05b   \n",
      "6  e4c05157f8cebdf3b9d689c441ba97c5ed5db05b   \n",
      "7  e4c05157f8cebdf3b9d689c441ba97c5ed5db05b   \n",
      "8  e4c05157f8cebdf3b9d689c441ba97c5ed5db05b   \n",
      "9  e4c05157f8cebdf3b9d689c441ba97c5ed5db05b   \n",
      "\n",
      "                                                song  score rank  \n",
      "0  Dog Days Are Over (Radio Edit) - Florence + Th...    8.0    0  \n",
      "1                           Sehr kosmisch - Harmonia    7.0    1  \n",
      "2                    You\\'re The One - Dwight Yoakam    6.0    2  \n",
      "3                                   Any Man - Eminem    5.0    3  \n",
      "4  A Beggar On A Beach Of Gold - Mike And The Mec...    5.0    4  \n",
      "5  Lucky (Album Version) - Jason Mraz & Colbie Ca...    5.0    5  \n",
      "6                   Somebody To Love - Justin Bieber    5.0    6  \n",
      "7                          Riot Van - Arctic Monkeys    4.0    7  \n",
      "8  Red Light Indicates Doors Are Secured - Arctic...    4.0    8  \n",
      "9  Perhaps Vampires Is A Bit Strong But... - Arct...    4.0    9  \n"
     ]
    }
   ],
   "source": [
    "popularity_result=item_item_collaborative_recommender(music_data,user[106])\n",
    "print(popularity_result)"
   ]
  },
  {
   "cell_type": "code",
   "execution_count": null,
   "metadata": {},
   "outputs": [],
   "source": []
  }
 ],
 "metadata": {
  "kernelspec": {
   "display_name": "Python 3",
   "language": "python",
   "name": "python3"
  },
  "language_info": {
   "codemirror_mode": {
    "name": "ipython",
    "version": 3
   },
   "file_extension": ".py",
   "mimetype": "text/x-python",
   "name": "python",
   "nbconvert_exporter": "python",
   "pygments_lexer": "ipython3",
   "version": "3.6.0"
  }
 },
 "nbformat": 4,
 "nbformat_minor": 2
}
